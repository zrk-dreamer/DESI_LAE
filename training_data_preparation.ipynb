{
 "cells": [
  {
   "cell_type": "code",
   "execution_count": 2,
   "id": "8f25dae3-ee3d-4611-a2f7-1ce63c8d0970",
   "metadata": {
    "tags": []
   },
   "outputs": [],
   "source": [
    "from astropy.io import fits\n",
    "import pickle\n",
    "import numpy as np\n",
    "from astropy.table import Table\n",
    "from astropy.convolution import convolve, Gaussian1DKernel"
   ]
  },
  {
   "cell_type": "code",
   "execution_count": 3,
   "id": "5d73d690-6838-4f21-a255-c7b394271028",
   "metadata": {
    "tags": []
   },
   "outputs": [],
   "source": [
    "# with open(\"/pscratch/sd/j/juikuan/DESI_LAE_dataset/original_dataset/fuji_similar_lite.pkl\", \"rb\") as fh:\n",
    "#     similar = pickle.load(fh)\n",
    "# with open(\"/pscratch/sd/j/juikuan/DESI_LAE_dataset/original_dataset/fuji_NLAE_lite.pkl\", \"rb\") as fh:\n",
    "#     NLAE = pickle.load(fh)\n",
    "# with open(\"/pscratch/sd/j/juikuan/DESI_LAE_dataset/original_dataset/fuji_random_lite.pkl\", \"rb\") as fh:\n",
    "#     random = pickle.load(fh)"
   ]
  },
  {
   "cell_type": "code",
   "execution_count": 4,
   "id": "f09e17a5-081a-49b5-a2cf-dc283b434317",
   "metadata": {
    "tags": []
   },
   "outputs": [],
   "source": [
    "def label_generate_old(spectra, labels, save, interval = 25, width_mode = \"sum\"):\n",
    "    label = []\n",
    "    label = []\n",
    "    min_wave = 3600\n",
    "    max_wave = 5550\n",
    "\n",
    "    for j in range(0, len(spectra)):\n",
    "        i = spectra[j]\n",
    "        if len(labels[j][\"VI\"]) == 0:\n",
    "            continue\n",
    "        else:\n",
    "            spectrum = []\n",
    "            line_loc = []\n",
    "            line_pre = []\n",
    "            line_std = []\n",
    "        if labels[j][\"VI\"][-1] == \"LAE\":\n",
    "            wavelength = i[\"SPECTRUM\"].wave[\"brz\"][i[\"SPECTRUM\"].wave[\"brz\"] < 5550]\n",
    "            flux = i[\"SPECTRUM\"].flux[\"brz\"][0][i[\"SPECTRUM\"].wave[\"brz\"] < 5550]\n",
    "            for j in range(min_wave, max_wave, interval):\n",
    "                if i[\"PARAMS\"][1] > j and i[\"PARAMS\"][1] < j + interval:\n",
    "                    line_loc.append(1)\n",
    "                    line_pre.append((i[\"PARAMS\"][1] - j) / 25)\n",
    "                    if width_mode == \"gaussian\":\n",
    "                        line_std.append((2 * (2 * np.log(2)) ** (1 / 2) * i[\"PARAMS\"][2]) / 0.8)\n",
    "                    elif width_mode == \"sum\":\n",
    "                        min_wavelength = i[\"PARAMS\"][1] - 4 * i[\"PARAMS\"][2]\n",
    "                        max_wavelength = i[\"PARAMS\"][1] + 4 * i[\"PARAMS\"][2]\n",
    "                        mask1 = wavelength > min_wavelength\n",
    "                        mask2 = wavelength[mask1] < max_wavelength\n",
    "                        signal = flux[mask1]\n",
    "                        signal = signal[mask2]\n",
    "                        signal[signal < 0] = 0\n",
    "                        cumulative_flux = np.cumsum(signal)\n",
    "                        lower = np.argmax(cumulative_flux > 0.025 * cumulative_flux[-1])\n",
    "                        higher = np.argmax(cumulative_flux > 0.975 * cumulative_flux[-1])\n",
    "                        width_pixel = higher - lower + 1\n",
    "                        line_std.append(width_pixel)\n",
    "                    if ((i[\"PARAMS\"][1] - j) / 25) < 0 or ((i[\"PARAMS\"][1] - j) / 25) > 1:\n",
    "                        print(\"warning\")\n",
    "                    else:\n",
    "                        pass\n",
    "                else:\n",
    "                    line_loc.append(0)\n",
    "                    line_pre.append(0)\n",
    "                    line_std.append(0)\n",
    "\n",
    "            if len(list(filter(lambda x: x == 1, line_loc))) != 1:\n",
    "                print(\"Wrong\")\n",
    "\n",
    "            spectrum.append(line_loc)\n",
    "            spectrum.append(line_pre)\n",
    "            spectrum.append(line_std)\n",
    "            label.append(spectrum)\n",
    "        \n",
    "        elif labels[j][\"VI\"][-1] == \"QSO\" or labels[j][\"VI\"] == \"ELG\":\n",
    "            label.append(np.zeros((3, len([i for i in range(3600, 5550, interval)]))))\n",
    "\n",
    "    label = np.array(label)\n",
    "    with open(str(save), \"wb\") as fh:\n",
    "        pickle.dump(label, fh)\n",
    "        \n",
    "    return label"
   ]
  },
  {
   "cell_type": "code",
   "execution_count": 7,
   "id": "4ea1cf6b-baab-465b-988e-edfd6145aa40",
   "metadata": {
    "tags": []
   },
   "outputs": [],
   "source": [
    "def label_generate_new(spectra, labels, save, interval = 25, width_mode = \"sum\"):\n",
    "    label = []\n",
    "    label = []\n",
    "    min_wave = 3600\n",
    "    max_wave = 5550\n",
    "\n",
    "    for j in range(0, len(spectra)):\n",
    "        i = spectra[j]\n",
    "        if len(labels[j][\"VI\"]) == 0:\n",
    "            continue\n",
    "        else:\n",
    "            spectrum = []\n",
    "            line_loc = []\n",
    "            line_pre = []\n",
    "            line_std = []\n",
    "        if labels[j][\"VI\"][-1] == \"LAE\":\n",
    "            wavelength = i[\"WAVE\"][i[\"WAVE\"] < 5550]\n",
    "            flux = i[\"FLUX\"][i[\"WAVE\"] < 5550]\n",
    "            for j in range(min_wave, max_wave, interval):\n",
    "                if i[\"PARAMS\"][1] > j and i[\"PARAMS\"][1] < j + interval:\n",
    "                    line_loc.append(1)\n",
    "                    line_pre.append((i[\"PARAMS\"][1] - j) / 25)\n",
    "                    if width_mode == \"gaussian\":\n",
    "                        line_std.append((2 * (2 * np.log(2)) ** (1 / 2) * i[\"PARAMS\"][2]) / 0.8)\n",
    "                    elif width_mode == \"sum\":\n",
    "                        min_wavelength = i[\"PARAMS\"][1] - 4 * i[\"PARAMS\"][2]\n",
    "                        max_wavelength = i[\"PARAMS\"][1] + 4 * i[\"PARAMS\"][2]\n",
    "                        mask1 = wavelength > min_wavelength\n",
    "                        mask2 = wavelength[mask1] < max_wavelength\n",
    "                        signal = flux[mask1]\n",
    "                        signal = signal[mask2]\n",
    "                        signal[signal < 0] = 0\n",
    "                        cumulative_flux = np.cumsum(signal)\n",
    "                        lower = np.argmax(cumulative_flux > 0.025 * cumulative_flux[-1])\n",
    "                        higher = np.argmax(cumulative_flux > 0.975 * cumulative_flux[-1])\n",
    "                        width_pixel = higher - lower + 1\n",
    "                        line_std.append(width_pixel)\n",
    "                    if ((i[\"PARAMS\"][1] - j) / 25) < 0 or ((i[\"PARAMS\"][1] - j) / 25) > 1:\n",
    "                        print(\"warning\")\n",
    "                    else:\n",
    "                        pass\n",
    "                else:\n",
    "                    line_loc.append(0)\n",
    "                    line_pre.append(0)\n",
    "                    line_std.append(0)\n",
    "\n",
    "            if len(list(filter(lambda x: x == 1, line_loc))) != 1:\n",
    "                print(\"Wrong\")\n",
    "\n",
    "            spectrum.append(line_loc)\n",
    "            spectrum.append(line_pre)\n",
    "            spectrum.append(line_std)\n",
    "            label.append(spectrum)\n",
    "        \n",
    "        elif labels[j][\"VI\"][-1] == \"NLAE\":\n",
    "            label.append(np.zeros((3, len([i for i in range(3600, 5550, interval)]))))\n",
    "\n",
    "    label = np.array(label)\n",
    "    with open(str(save), \"wb\") as fh:\n",
    "        pickle.dump(label, fh)\n",
    "        \n",
    "    return label"
   ]
  },
  {
   "cell_type": "code",
   "execution_count": 8,
   "id": "ac7d6be3-b6b9-4393-b49c-1129f7400553",
   "metadata": {
    "tags": []
   },
   "outputs": [],
   "source": [
    "def spectra_generate(save, spectra, labels):\n",
    "    b_band = []\n",
    "    for j in range(0, len(spectra)):\n",
    "        i = spectra[j]\n",
    "        if len(labels[j][\"VI\"]) == 0:\n",
    "            continue\n",
    "        else:\n",
    "            pass\n",
    "        \n",
    "        dic = {}\n",
    "        dic[\"Z\"] = i[\"Z\"]\n",
    "        dic[\"TARGETID\"] = i[\"TARGETID\"]\n",
    "        dic[\"WAVE\"] = i[\"WAVE\"][i[\"WAVE\"] < 5550]\n",
    "        dic[\"IVAR\"] = i[\"IVAR\"][i[\"WAVE\"] < 5550]\n",
    "        dic[\"FLUX\"] = i[\"FLUX\"][i[\"WAVE\"] < 5550]\n",
    "        dic[\"CONV_FLUX\"] = convolve(i[\"FLUX\"][i[\"WAVE\"] < 5550], Gaussian1DKernel(1))\n",
    "        \n",
    "        if labels[j][\"VI\"][-1] == \"LAE\":\n",
    "            b_band.append(dic)\n",
    "        elif labels[j][\"VI\"][-1] == \"NLAE\":\n",
    "            b_band.append(dic)\n",
    "\n",
    "    with open(str(save), \"wb\") as fh:\n",
    "        pickle.dump(b_band, fh)\n",
    "            \n",
    "    return b_band"
   ]
  },
  {
   "cell_type": "code",
   "execution_count": 9,
   "id": "d7f316ba-88ec-45ca-ad06-3edd3bd9a2b4",
   "metadata": {},
   "outputs": [],
   "source": [
    "with open(\"/pscratch/sd/j/juikuan/DESI_LAE_dataset/original_dataset/iron_pre_lite.pkl\", \"rb\") as fh:\n",
    "    iron_pre = pickle.load(fh)\n",
    "with open(\"/pscratch/sd/j/juikuan/DESI_LAE_dataset/VI/iron_pre.pkl\", \"rb\") as fh:\n",
    "    iron_labels = pickle.load(fh)\n",
    "    \n",
    "with open(\"/pscratch/sd/j/juikuan/DESI_LAE_dataset/original_dataset/fuji_pre_lite.pkl\", \"rb\") as fh:\n",
    "    fuji_pre = pickle.load(fh)\n",
    "with open(\"/pscratch/sd/j/juikuan/DESI_LAE_dataset/VI/fuji_pre.pkl\", \"rb\") as fh:\n",
    "    fuji_labels = pickle.load(fh)"
   ]
  },
  {
   "cell_type": "code",
   "execution_count": 11,
   "id": "e806e9b9-94ad-45e2-943c-4742c25fc88a",
   "metadata": {
    "tags": []
   },
   "outputs": [],
   "source": [
    "label = label_generate_new(spectra = iron_pre, labels = iron_labels, save = \"/pscratch/sd/j/juikuan/DESI_LAE_dataset/train_label/iron_pre_25.pkl\", interval = 25, width_mode = \"sum\")"
   ]
  },
  {
   "cell_type": "code",
   "execution_count": 7,
   "id": "ecaedbb5-5101-484d-b284-b9db13b326d9",
   "metadata": {
    "tags": []
   },
   "outputs": [],
   "source": [
    "b_band = spectra_generate(save = \"/pscratch/sd/j/juikuan/DESI_LAE_dataset/train_spectra/fuji_pre_b.pkl\", spectra = fuji_pre, labels = fuji_labels)"
   ]
  },
  {
   "cell_type": "code",
   "execution_count": 4,
   "id": "16d1bff0-d454-4328-8b63-20d4308c1b58",
   "metadata": {},
   "outputs": [],
   "source": [
    "with open(\"/pscratch/sd/j/juikuan/DESI_LAE_dataset/train_label/fuji_NLAE_25.pkl\", \"rb\") as fh:\n",
    "    label = pickle.load(fh)"
   ]
  }
 ],
 "metadata": {
  "kernelspec": {
   "display_name": "DESI_LAE",
   "language": "python",
   "name": "desi_lae"
  },
  "language_info": {
   "codemirror_mode": {
    "name": "ipython",
    "version": 3
   },
   "file_extension": ".py",
   "mimetype": "text/x-python",
   "name": "python",
   "nbconvert_exporter": "python",
   "pygments_lexer": "ipython3",
   "version": "3.10.0"
  }
 },
 "nbformat": 4,
 "nbformat_minor": 5
}
