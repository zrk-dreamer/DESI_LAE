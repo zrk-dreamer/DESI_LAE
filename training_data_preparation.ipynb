{
 "cells": [
  {
   "cell_type": "code",
   "execution_count": 2,
   "id": "8f25dae3-ee3d-4611-a2f7-1ce63c8d0970",
   "metadata": {
    "tags": []
   },
   "outputs": [],
   "source": [
    "from astropy.io import fits\n",
    "import pickle\n",
    "import numpy as np\n",
    "from astropy.table import Table"
   ]
  },
  {
   "cell_type": "code",
   "execution_count": 4,
   "id": "5d73d690-6838-4f21-a255-c7b394271028",
   "metadata": {
    "tags": []
   },
   "outputs": [],
   "source": [
    "with open(\"../DESI_LAE_dataset/original_dataset/iron_spectra.pkl\", \"rb\") as fh:\n",
    "    spectra = pickle.load(fh)"
   ]
  },
  {
   "cell_type": "code",
   "execution_count": 15,
   "id": "f09e17a5-081a-49b5-a2cf-dc283b434317",
   "metadata": {
    "tags": []
   },
   "outputs": [],
   "source": [
    "def iron_label_generate(spectra, interval = 25, width_mode = \"sum\"):\n",
    "    LAE_label = []\n",
    "    NLAE_label = []\n",
    "    min_wave = 3600\n",
    "    max_wave = 5550\n",
    "\n",
    "    for i in spectra:\n",
    "        if \"VI\" not in i:\n",
    "            continue\n",
    "        else:\n",
    "            spectrum = []\n",
    "            line_loc = []\n",
    "            line_pre = []\n",
    "            line_std = []\n",
    "        if i[\"VI\"] == 1:\n",
    "            wavelength = i[\"SPECTRUM\"].wave[\"brz\"][i[\"SPECTRUM\"].wave[\"brz\"] < 5550]\n",
    "            flux = i[\"SPECTRUM\"].flux[\"brz\"][0][i[\"SPECTRUM\"].wave[\"brz\"] < 5550]\n",
    "            for j in range(min_wave, max_wave, interval):\n",
    "                if i[\"PARAMS\"][1] > j and i[\"PARAMS\"][1] < j + interval:\n",
    "                    line_loc.append(1)\n",
    "                    line_pre.append((i[\"PARAMS\"][1] - j + interval) / 75)\n",
    "                    if width_mode == \"gaussian\":\n",
    "                        line_std.append((2 * (2 * np.log(2)) ** (1 / 2) * i[\"PARAMS\"][2]) / 0.8)\n",
    "                    elif width_mode == \"sum\":\n",
    "                        min_wavelength = i[\"PARAMS\"][1] - 4 * i[\"PARAMS\"][2]\n",
    "                        max_wavelength = i[\"PARAMS\"][1] + 4 * i[\"PARAMS\"][2]\n",
    "                        mask1 = wavelength > min_wavelength\n",
    "                        mask2 = wavelength[mask1] < max_wavelength\n",
    "                        signal = flux[mask1]\n",
    "                        signal = signal[mask2]\n",
    "                        signal[signal < 0] = 0\n",
    "                        cumulative_flux = np.cumsum(signal)\n",
    "                        lower = np.argmax(cumulative_flux > 0.025 * cumulative_flux[-1])\n",
    "                        higher = np.argmax(cumulative_flux > 0.975 * cumulative_flux[-1])\n",
    "                        width_pixel = higher - lower + 1\n",
    "                        line_std.append(width_pixel)\n",
    "                    if ((i[\"PARAMS\"][1] - j + interval) / 75) < 1 / 3 or ((i[\"PARAMS\"][1] - j + interval) / 75) > 2 / 3:\n",
    "                        print(\"warning\")\n",
    "                    else:\n",
    "                        pass\n",
    "                else:\n",
    "                    line_loc.append(0)\n",
    "                    line_pre.append(0)\n",
    "                    line_std.append(0)\n",
    "\n",
    "            if len(list(filter(lambda x: x == 1, line_loc))) != 1:\n",
    "                print(\"Wrong\")\n",
    "\n",
    "            spectrum.append(line_loc)\n",
    "            spectrum.append(line_pre)\n",
    "            spectrum.append(line_std)\n",
    "            LAE_label.append(spectrum)\n",
    "        \n",
    "        elif i[\"VI\"] == 0:\n",
    "            NLAE_label.append(np.zeros((3, len([i for i in range(3600, 5550, interval)]))))\n",
    "\n",
    "    LAE_label = np.array(LAE_label)\n",
    "    NLAE_label = np.array(NLAE_label)\n",
    "    with open(\"../DESI_LAE_dataset/LAE_iron_25.pkl\", \"wb\") as fh:\n",
    "        pickle.dump(LAE_label, fh)\n",
    "    with open(\"../DESI_LAE_dataset/NLAE_iron_25.pkl\", \"wb\") as fh:\n",
    "        pickle.dump(LAE_label, fh)\n",
    "        \n",
    "    return LAE_label, NLAE_label"
   ]
  },
  {
   "cell_type": "code",
   "execution_count": 13,
   "id": "ac7d6be3-b6b9-4393-b49c-1129f7400553",
   "metadata": {
    "tags": []
   },
   "outputs": [],
   "source": [
    "def iron_spectra_generate(spectra):\n",
    "    LAE_b_band = []\n",
    "    NLAE_b_band = []\n",
    "    for i in spectra:\n",
    "        if \"VI\" not in i:\n",
    "            continue\n",
    "        else:\n",
    "            pass\n",
    "        \n",
    "        dic = {}\n",
    "        dic['_dr'] = i['_dr']\n",
    "        dic[\"Z\"] = i[\"Z\"]\n",
    "        dic[\"TARGETID\"] = i[\"TARGETID\"]\n",
    "        dic[\"WAVE\"] = i[\"SPECTRUM\"].wave[\"brz\"][i[\"SPECTRUM\"].wave[\"brz\"] < 5550]\n",
    "        dic[\"IVAR\"] = i[\"SPECTRUM\"].ivar[\"brz\"][0][i[\"SPECTRUM\"].wave[\"brz\"] < 5550]\n",
    "        dic[\"FLUX\"] = i[\"SPECTRUM\"].flux[\"brz\"][0][i[\"SPECTRUM\"].wave[\"brz\"] < 5550]\n",
    "        \n",
    "        if i[\"VI\"] == 1:\n",
    "            LAE_b_band.append(dic)\n",
    "        elif i[\"VI\"] == 0:\n",
    "            NLAE_b_band.append(dic)\n",
    "        \n",
    "    with open(\"../DESI_LAE_dataset/train_spectra/LAE_iron_b.pkl\", \"wb\") as fh:\n",
    "        pickle.dump(LAE_b_band, fh)\n",
    "    with open(\"../DESI_LAE_dataset/train_spectra/NLAE_iron_b.pkl\", \"wb\") as fh:\n",
    "        pickle.dump(NLAE_b_band, fh)\n",
    "            \n",
    "    return LAE_b_band, NLAE_b_band"
   ]
  },
  {
   "cell_type": "code",
   "execution_count": 16,
   "id": "e806e9b9-94ad-45e2-943c-4742c25fc88a",
   "metadata": {
    "tags": []
   },
   "outputs": [],
   "source": [
    "LAE_label, NLAE_label = LAE_label_generate(spectra, interval = 25, width_mode = \"sum\")"
   ]
  },
  {
   "cell_type": "code",
   "execution_count": 14,
   "id": "ecaedbb5-5101-484d-b284-b9db13b326d9",
   "metadata": {
    "tags": []
   },
   "outputs": [
    {
     "name": "stdout",
     "output_type": "stream",
     "text": [
      "Process: 100.0 %9161139289 %%%%"
     ]
    }
   ],
   "source": [
    "LAE_b_band, NLAE_b_band = iron_spectra_generate(spectra = spectra)"
   ]
  },
  {
   "cell_type": "code",
   "execution_count": null,
   "id": "0dba64c6-055c-4334-b009-521918d0363b",
   "metadata": {},
   "outputs": [],
   "source": []
  }
 ],
 "metadata": {
  "kernelspec": {
   "display_name": "DESI_LAE",
   "language": "python",
   "name": "desi_lae"
  },
  "language_info": {
   "codemirror_mode": {
    "name": "ipython",
    "version": 3
   },
   "file_extension": ".py",
   "mimetype": "text/x-python",
   "name": "python",
   "nbconvert_exporter": "python",
   "pygments_lexer": "ipython3",
   "version": "3.10.0"
  }
 },
 "nbformat": 4,
 "nbformat_minor": 5
}
