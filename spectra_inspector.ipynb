{
 "cells": [
  {
   "cell_type": "code",
   "execution_count": 1,
   "id": "8c099fee-d511-4960-bfcd-1203a505ce62",
   "metadata": {
    "tags": []
   },
   "outputs": [],
   "source": [
    "import numpy as np\n",
    "\n",
    "from prospect.specutils import Spectra\n",
    "from prospect import viewer\n",
    "\n",
    "import matplotlib \n",
    "import matplotlib.pyplot as plt\n",
    "import matplotlib.image as img\n",
    "from matplotlib.pyplot import rc\n",
    "%matplotlib inline\n",
    "\n",
    "from astropy.convolution import convolve, Gaussian1DKernel\n",
    "\n",
    "import pickle\n",
    "plt.rcParams['font.size'] = 14"
   ]
  },
  {
   "cell_type": "code",
   "execution_count": 2,
   "id": "fefebe1a-7527-4646-8bb3-9c9f3e320b57",
   "metadata": {
    "tags": []
   },
   "outputs": [],
   "source": [
    "with open(\"../DESI_LAE_dataset/iron_spectra.pkl\", \"rb\") as fh:\n",
    "    spectra = pickle.load(fh)"
   ]
  },
  {
   "cell_type": "code",
   "execution_count": 18,
   "id": "6f559a26-55e8-44e7-9f0b-91a4c6c180b6",
   "metadata": {
    "tags": []
   },
   "outputs": [],
   "source": [
    "def inspector(spectra, save):\n",
    "    n = 0\n",
    "    for i in spectra:\n",
    "        n += 1\n",
    "        if \"VI\" not in i:\n",
    "            print(f\"No.{n} / {len(spectra)}\")\n",
    "            flux = i[\"flux\"]\n",
    "            wavelength = i[\"wavelength\"]\n",
    "            redshift = i[\"redshift\"]\n",
    "            ivar = i[\"ivar\"]\n",
    "            targetid = i[\"specid\"]\n",
    "            \n",
    "            if redshift > 1.96:\n",
    "                vlines = np.array([1215.67, 1549, 1908, 2796]) * (redshift  + 1)\n",
    "                #Lya, CIV, CIII, and MGII\n",
    "                \n",
    "            elif redshift < 0.4:\n",
    "                vlines = np.array([3726.032, 3968.47, 4101.734, 4340, 4861, 6562.81]) * (redshift  + 1)\n",
    "                #OII, HEPSILON, HDELTA, HGAMMA, HBETA, and HALPHA\n",
    "            else:\n",
    "                pass\n",
    "                \n",
    "            vlines = vlines[vlines < wavelength[-1]]\n",
    "            vlines = vlines[vlines > wavelength[0]]\n",
    "            \n",
    "            w = wavelength\n",
    "            f = flux\n",
    "            iv = np.sqrt(ivar) ** -1\n",
    "\n",
    "            plt.close()\n",
    "            plt.rcParams['figure.figsize'] = (32,8)\n",
    "            plt.title(f\"target ID = {targetid}\\n\"\n",
    "                      f\"Redshift = {redshift}\\n\", loc = 'left')\n",
    "            plt.xlabel('$\\lambda\\ [\\AA]$')\n",
    "            plt.ylabel('$f_{\\lambda}$ $(10^{-17}$ $erg$ $s^{-1}$ $cm^{-2}$ $\\AA^{-1})$')\n",
    "            plt.plot(w, f, color = 'k', alpha = 0.2, label = 'Unsmoothed spectrum', lw = 1)\n",
    "            plt.plot(w, convolve(f, Gaussian1DKernel(2)), color = 'k', label = 'Smoothed spectrum', lw = 1)\n",
    "            plt.plot(w, iv, color = 'orange', alpha = 0.5, label = 'noise', lw = 1)\n",
    "            for j in vlines:\n",
    "                plt.vlines(x = j, ymin = -np.std(f, ddof = 1) * 4, ymax = np.std(f, ddof = 1) * 4, color = \"b\", linestyles = \"dashed\", lw = 1)\n",
    "            plt.ylim(-np.std(f, ddof = 1) * 5, np.std(f, ddof = 1) * 5)\n",
    "            plt.legend()\n",
    "            plt.show()\n",
    "            \n",
    "            if redshift < 0.4:\n",
    "                min = 3726.032 * (redshift + 1) - 50\n",
    "                max = 3726.032 * (redshift + 1) + 50\n",
    "                mask_min = wavelength > min\n",
    "                mask_max = wavelength < max\n",
    "                w = wavelength[mask_min & mask_max]\n",
    "                f = flux[mask_min & mask_max]\n",
    "                iv = np.sqrt(ivar[mask_min & mask_max]) ** -1\n",
    "\n",
    "                if np.max(f) == np.inf:\n",
    "                    f[np.where(f == np.inf)] = np.median(f)\n",
    "                elif np.max(iv) == np.inf:\n",
    "                    iv[np.where(iv == np.inf)] = np.median(iv)\n",
    "                else:\n",
    "                    pass\n",
    "                \n",
    "                plt.rcParams['figure.figsize'] = (8,6)\n",
    "                plt.plot(w, f, color = 'k', alpha = 1, label = 'Unsmoothed spectrum')\n",
    "                plt.plot(w, iv, color = 'orange', alpha = 0.7, label = 'noise')\n",
    "                plt.legend()\n",
    "                plt.show()\n",
    "                \n",
    "            elif redshift > 1.96:\n",
    "                min = 1215.67 * (redshift + 1) - 50\n",
    "                max = 1215.67 * (redshift + 1) + 50\n",
    "                mask_min = wavelength > min\n",
    "                mask_max = wavelength < max\n",
    "                w = wavelength[mask_min & mask_max]\n",
    "                f = flux[mask_min & mask_max]\n",
    "                iv = np.sqrt(ivar[mask_min & mask_max]) ** -1\n",
    "\n",
    "                if np.max(f) == np.inf:\n",
    "                    f[np.where(f == np.inf)] = np.median(f)\n",
    "                elif np.max(iv) == np.inf:\n",
    "                    iv[np.where(iv == np.inf)] = np.median(iv)\n",
    "                else:\n",
    "                    pass\n",
    "                \n",
    "                plt.rcParams['figure.figsize'] = (8,6)\n",
    "                plt.plot(w, f, color = 'k', alpha = 1, label = 'Unsmoothed spectrum')\n",
    "                plt.plot(w, iv, color = 'orange', alpha = 0.7, label = 'noise')\n",
    "                plt.legend()\n",
    "                plt.show()\n",
    "            \n",
    "            print(\"Is it a LAE?\")\n",
    "            print(f\"https://www.legacysurvey.org/viewer-desi/desi-spectrum/dr1/targetid{targetid}\")\n",
    "            again = True\n",
    "            exit = False\n",
    "            while again:\n",
    "                try:\n",
    "                    answer1 = input(\"-1:ignore / 0:NLAE / 1:LAE / 2:Exit\")\n",
    "                    answer2 = int(answer1)\n",
    "                    if answer2 == 2:\n",
    "                        exit = True\n",
    "                        break\n",
    "                    else:\n",
    "                        pass\n",
    "                    i[\"VI\"] = answer2\n",
    "                    again = False\n",
    "                    with open(str(save) + \"iron_spectra.pkl\", \"wb\") as fh:\n",
    "                        pickle.dump(spectra, fh)\n",
    "                except:\n",
    "                    print(\"Only -1, 0, 1, 2 are legal!\")\n",
    "                    \n",
    "            if exit == True:\n",
    "                break\n",
    "            else:\n",
    "                pass\n",
    "            \n",
    "            print(\"===============================================================================================================================\")\n",
    "        else:\n",
    "            pass\n",
    "    return spectra"
   ]
  },
  {
   "cell_type": "code",
   "execution_count": null,
   "id": "f126e335-6516-4aa2-82b5-d4e704534d38",
   "metadata": {},
   "outputs": [],
   "source": [
    "spectra = inspector(spectra = spectra, save = \"../DESI_LAE_dataset/\")"
   ]
  },
  {
   "cell_type": "code",
   "execution_count": 2,
   "id": "22191715-de55-40c8-813d-1fd8598fd53e",
   "metadata": {
    "tags": []
   },
   "outputs": [],
   "source": [
    "with open(\"../DESI_LAE_dataset/iron_spectra_mask.pkl\", \"rb\") as fh:\n",
    "    spectra = pickle.load(fh)"
   ]
  },
  {
   "cell_type": "code",
   "execution_count": 18,
   "id": "54c5c3ca-cf2e-413c-97a6-aa07750db362",
   "metadata": {},
   "outputs": [],
   "source": [
    "def prospect_VI(spectra, html_dir):\n",
    "    wavelength = []\n",
    "    flux = []\n",
    "    ivar = []\n",
    "    mask = []\n",
    "    redrock_z = []\n",
    "    n = 0\n",
    "    for i in spectra:\n",
    "        n += 1\n",
    "        wavelength.append(i[\"wavelength\"])\n",
    "        flux.append(i[\"flux\"])\n",
    "        ivar.append(i[\"ivar\"])\n",
    "        mask.append(i[\"bitmask\"])\n",
    "        redrock_z.append(i[\"redshift\"])\n",
    "        if n % 10 == 0:\n",
    "            wavelength = np.array(wavelength)[0]\n",
    "            flux = np.array(flux)\n",
    "            ivar = np.array(ivar)\n",
    "            mask = np.array(mask, dtype = np.int64)\n",
    "            redrock_z = np.array(redrock_z)\n",
    "            spectra_obj = Spectra(bands = [\"brz\"], wave = {\"brz\": wavelength}, flux = {\"brz\": flux}, ivar = {\"brz\": ivar}, mask = {\"brz\": mask})\n",
    "            a = viewer.plotspectra(spectra = spectra_obj, html_dir = html_dir)\n",
    "            break\n",
    "    return a"
   ]
  },
  {
   "cell_type": "code",
   "execution_count": 19,
   "id": "858d3e1e-eb33-4778-97d7-4636c0040fbc",
   "metadata": {
    "tags": []
   },
   "outputs": [
    {
     "ename": "ValueError",
     "evalue": "Spectral axis must be strictly increasing or decreasing.",
     "output_type": "error",
     "traceback": [
      "\u001b[0;31m---------------------------------------------------------------------------\u001b[0m",
      "\u001b[0;31mValueError\u001b[0m                                Traceback (most recent call last)",
      "Cell \u001b[0;32mIn[19], line 1\u001b[0m\n\u001b[0;32m----> 1\u001b[0m a \u001b[38;5;241m=\u001b[39m \u001b[43mprospect_VI\u001b[49m\u001b[43m(\u001b[49m\u001b[43mspectra\u001b[49m\u001b[43m \u001b[49m\u001b[38;5;241;43m=\u001b[39;49m\u001b[43m \u001b[49m\u001b[43mspectra\u001b[49m\u001b[43m,\u001b[49m\u001b[43m \u001b[49m\u001b[43mhtml_dir\u001b[49m\u001b[43m \u001b[49m\u001b[38;5;241;43m=\u001b[39;49m\u001b[43m \u001b[49m\u001b[38;5;124;43m\"\u001b[39;49m\u001b[38;5;124;43m../DESI_LAE_dataset/\u001b[39;49m\u001b[38;5;124;43m\"\u001b[39;49m\u001b[43m)\u001b[49m\n",
      "Cell \u001b[0;32mIn[18], line 21\u001b[0m, in \u001b[0;36mprospect_VI\u001b[0;34m(spectra, html_dir)\u001b[0m\n\u001b[1;32m     19\u001b[0m mask \u001b[38;5;241m=\u001b[39m np\u001b[38;5;241m.\u001b[39marray(mask, dtype \u001b[38;5;241m=\u001b[39m np\u001b[38;5;241m.\u001b[39mint64)\n\u001b[1;32m     20\u001b[0m redrock_z \u001b[38;5;241m=\u001b[39m np\u001b[38;5;241m.\u001b[39marray(redrock_z)\n\u001b[0;32m---> 21\u001b[0m spectra_obj \u001b[38;5;241m=\u001b[39m \u001b[43mSpectra\u001b[49m\u001b[43m(\u001b[49m\u001b[43mbands\u001b[49m\u001b[43m \u001b[49m\u001b[38;5;241;43m=\u001b[39;49m\u001b[43m \u001b[49m\u001b[43m[\u001b[49m\u001b[38;5;124;43m\"\u001b[39;49m\u001b[38;5;124;43mbrz\u001b[39;49m\u001b[38;5;124;43m\"\u001b[39;49m\u001b[43m]\u001b[49m\u001b[43m,\u001b[49m\u001b[43m \u001b[49m\u001b[43mwave\u001b[49m\u001b[43m \u001b[49m\u001b[38;5;241;43m=\u001b[39;49m\u001b[43m \u001b[49m\u001b[43m{\u001b[49m\u001b[38;5;124;43m\"\u001b[39;49m\u001b[38;5;124;43mbrz\u001b[39;49m\u001b[38;5;124;43m\"\u001b[39;49m\u001b[43m:\u001b[49m\u001b[43m \u001b[49m\u001b[43mwavelength\u001b[49m\u001b[43m}\u001b[49m\u001b[43m,\u001b[49m\u001b[43m \u001b[49m\u001b[43mflux\u001b[49m\u001b[43m \u001b[49m\u001b[38;5;241;43m=\u001b[39;49m\u001b[43m \u001b[49m\u001b[43m{\u001b[49m\u001b[38;5;124;43m\"\u001b[39;49m\u001b[38;5;124;43mbrz\u001b[39;49m\u001b[38;5;124;43m\"\u001b[39;49m\u001b[43m:\u001b[49m\u001b[43m \u001b[49m\u001b[43mflux\u001b[49m\u001b[43m}\u001b[49m\u001b[43m,\u001b[49m\u001b[43m \u001b[49m\u001b[43mivar\u001b[49m\u001b[43m \u001b[49m\u001b[38;5;241;43m=\u001b[39;49m\u001b[43m \u001b[49m\u001b[43m{\u001b[49m\u001b[38;5;124;43m\"\u001b[39;49m\u001b[38;5;124;43mbrz\u001b[39;49m\u001b[38;5;124;43m\"\u001b[39;49m\u001b[43m:\u001b[49m\u001b[43m \u001b[49m\u001b[43mivar\u001b[49m\u001b[43m}\u001b[49m\u001b[43m,\u001b[49m\u001b[43m \u001b[49m\u001b[43mmask\u001b[49m\u001b[43m \u001b[49m\u001b[38;5;241;43m=\u001b[39;49m\u001b[43m \u001b[49m\u001b[43m{\u001b[49m\u001b[38;5;124;43m\"\u001b[39;49m\u001b[38;5;124;43mbrz\u001b[39;49m\u001b[38;5;124;43m\"\u001b[39;49m\u001b[43m:\u001b[49m\u001b[43m \u001b[49m\u001b[43mmask\u001b[49m\u001b[43m}\u001b[49m\u001b[43m)\u001b[49m\n\u001b[1;32m     22\u001b[0m a \u001b[38;5;241m=\u001b[39m viewer\u001b[38;5;241m.\u001b[39mplotspectra(spectra \u001b[38;5;241m=\u001b[39m spectra_obj, html_dir \u001b[38;5;241m=\u001b[39m html_dir)\n\u001b[1;32m     23\u001b[0m \u001b[38;5;28;01mbreak\u001b[39;00m\n",
      "File \u001b[0;32m~/.conda/envs/DESI_LAE/lib/python3.10/site-packages/prospect/specutils.py:159\u001b[0m, in \u001b[0;36mSpectra.__init__\u001b[0;34m(self, bands, wave, flux, ivar, mask, resolution_data, fibermap, meta, extra, single, scores)\u001b[0m\n\u001b[1;32m    157\u001b[0m     \u001b[38;5;28;01mfor\u001b[39;00m k, v \u001b[38;5;129;01min\u001b[39;00m extra[b]\u001b[38;5;241m.\u001b[39mitems():\n\u001b[1;32m    158\u001b[0m         band_meta[\u001b[38;5;124m'\u001b[39m\u001b[38;5;124mextra\u001b[39m\u001b[38;5;124m'\u001b[39m][k] \u001b[38;5;241m=\u001b[39m np\u001b[38;5;241m.\u001b[39mcopy(v\u001b[38;5;241m.\u001b[39mastype(\u001b[38;5;28mself\u001b[39m\u001b[38;5;241m.\u001b[39m_ftype))\n\u001b[0;32m--> 159\u001b[0m \u001b[38;5;28mself\u001b[39m\u001b[38;5;241m.\u001b[39mappend(\u001b[43mSpectrum1D\u001b[49m\u001b[43m(\u001b[49m\u001b[43mspectral_axis\u001b[49m\u001b[38;5;241;43m=\u001b[39;49m\u001b[43mnp\u001b[49m\u001b[38;5;241;43m.\u001b[39;49m\u001b[43mcopy\u001b[49m\u001b[43m(\u001b[49m\u001b[43mwave\u001b[49m\u001b[43m[\u001b[49m\u001b[43mb\u001b[49m\u001b[43m]\u001b[49m\u001b[38;5;241;43m.\u001b[39;49m\u001b[43mastype\u001b[49m\u001b[43m(\u001b[49m\u001b[38;5;28;43mself\u001b[39;49m\u001b[38;5;241;43m.\u001b[39;49m\u001b[43m_ftype\u001b[49m\u001b[43m)\u001b[49m\u001b[43m)\u001b[49m\u001b[38;5;241;43m*\u001b[39;49m\u001b[43mu\u001b[49m\u001b[38;5;241;43m.\u001b[39;49m\u001b[43mAngstrom\u001b[49m\u001b[43m,\u001b[49m\n\u001b[1;32m    160\u001b[0m \u001b[43m                       \u001b[49m\u001b[43mflux\u001b[49m\u001b[38;5;241;43m=\u001b[39;49m\u001b[43mnp\u001b[49m\u001b[38;5;241;43m.\u001b[39;49m\u001b[43mcopy\u001b[49m\u001b[43m(\u001b[49m\u001b[43mflux\u001b[49m\u001b[43m[\u001b[49m\u001b[43mb\u001b[49m\u001b[43m]\u001b[49m\u001b[38;5;241;43m.\u001b[39;49m\u001b[43mastype\u001b[49m\u001b[43m(\u001b[49m\u001b[38;5;28;43mself\u001b[39;49m\u001b[38;5;241;43m.\u001b[39;49m\u001b[43m_ftype\u001b[49m\u001b[43m)\u001b[49m\u001b[43m)\u001b[49m\u001b[38;5;241;43m*\u001b[39;49m\u001b[43mu\u001b[49m\u001b[38;5;241;43m.\u001b[39;49m\u001b[43mUnit\u001b[49m\u001b[43m(\u001b[49m\u001b[38;5;124;43m'\u001b[39;49m\u001b[38;5;124;43m10**-17 erg/(s cm2 Angstrom)\u001b[39;49m\u001b[38;5;124;43m'\u001b[39;49m\u001b[43m)\u001b[49m\u001b[43m,\u001b[49m\n\u001b[1;32m    161\u001b[0m \u001b[43m                       \u001b[49m\u001b[43muncertainty\u001b[49m\u001b[38;5;241;43m=\u001b[39;49m\u001b[43mInverseVariance\u001b[49m\u001b[43m(\u001b[49m\u001b[43mnp\u001b[49m\u001b[38;5;241;43m.\u001b[39;49m\u001b[43mcopy\u001b[49m\u001b[43m(\u001b[49m\u001b[43mivar\u001b[49m\u001b[43m[\u001b[49m\u001b[43mb\u001b[49m\u001b[43m]\u001b[49m\u001b[38;5;241;43m.\u001b[39;49m\u001b[43mastype\u001b[49m\u001b[43m(\u001b[49m\u001b[38;5;28;43mself\u001b[39;49m\u001b[38;5;241;43m.\u001b[39;49m\u001b[43m_ftype\u001b[49m\u001b[43m)\u001b[49m\u001b[43m)\u001b[49m\u001b[43m)\u001b[49m\u001b[43m,\u001b[49m\n\u001b[1;32m    162\u001b[0m \u001b[43m                       \u001b[49m\u001b[43mmask\u001b[49m\u001b[38;5;241;43m=\u001b[39;49m\u001b[43mbool_mask\u001b[49m\u001b[43m,\u001b[49m\n\u001b[1;32m    163\u001b[0m \u001b[43m                       \u001b[49m\u001b[43mmeta\u001b[49m\u001b[38;5;241;43m=\u001b[39;49m\u001b[43mband_meta\u001b[49m\u001b[43m)\u001b[49m)\n",
      "File \u001b[0;32m~/.conda/envs/DESI_LAE/lib/python3.10/site-packages/specutils/spectra/spectrum1d.py:302\u001b[0m, in \u001b[0;36mSpectrum1D.__init__\u001b[0;34m(self, flux, spectral_axis, wcs, velocity_convention, rest_value, redshift, radial_velocity, bin_specification, **kwargs)\u001b[0m\n\u001b[1;32m    299\u001b[0m \u001b[38;5;66;03m# make sure that spectral axis is strictly increasing or decreasing,\u001b[39;00m\n\u001b[1;32m    300\u001b[0m \u001b[38;5;66;03m# raise an error if not.\u001b[39;00m\n\u001b[1;32m    301\u001b[0m \u001b[38;5;28;01mif\u001b[39;00m \u001b[38;5;129;01mnot\u001b[39;00m \u001b[38;5;28mself\u001b[39m\u001b[38;5;241m.\u001b[39m_check_strictly_increasing_decreasing():\n\u001b[0;32m--> 302\u001b[0m     \u001b[38;5;28;01mraise\u001b[39;00m \u001b[38;5;167;01mValueError\u001b[39;00m(\u001b[38;5;124m'\u001b[39m\u001b[38;5;124mSpectral axis must be strictly increasing or decreasing.\u001b[39m\u001b[38;5;124m'\u001b[39m)\n\u001b[1;32m    304\u001b[0m \u001b[38;5;28;01mif\u001b[39;00m \u001b[38;5;28mhasattr\u001b[39m(\u001b[38;5;28mself\u001b[39m, \u001b[38;5;124m'\u001b[39m\u001b[38;5;124muncertainty\u001b[39m\u001b[38;5;124m'\u001b[39m) \u001b[38;5;129;01mand\u001b[39;00m \u001b[38;5;28mself\u001b[39m\u001b[38;5;241m.\u001b[39muncertainty \u001b[38;5;129;01mis\u001b[39;00m \u001b[38;5;129;01mnot\u001b[39;00m \u001b[38;5;28;01mNone\u001b[39;00m:\n\u001b[1;32m    305\u001b[0m     \u001b[38;5;28;01mif\u001b[39;00m \u001b[38;5;129;01mnot\u001b[39;00m flux\u001b[38;5;241m.\u001b[39mshape \u001b[38;5;241m==\u001b[39m \u001b[38;5;28mself\u001b[39m\u001b[38;5;241m.\u001b[39muncertainty\u001b[38;5;241m.\u001b[39marray\u001b[38;5;241m.\u001b[39mshape:\n",
      "\u001b[0;31mValueError\u001b[0m: Spectral axis must be strictly increasing or decreasing."
     ]
    }
   ],
   "source": [
    "a = prospect_VI(spectra = spectra, html_dir = \"../DESI_LAE_dataset/\")"
   ]
  },
  {
   "cell_type": "code",
   "execution_count": 24,
   "id": "4f63183d-7696-41fe-b462-52bda1be9374",
   "metadata": {
    "tags": []
   },
   "outputs": [
    {
     "name": "stdout",
     "output_type": "stream",
     "text": [
      "5800.0000000005\n",
      "5760.0\n",
      "7620.000000000423\n",
      "7520.0\n"
     ]
    }
   ],
   "source": [
    "for i in range(0, len(spectra[0][\"wavelength\"]) - 1):\n",
    "    if spectra[0][\"wavelength\"][i] > spectra[0][\"wavelength\"][i + 1]:\n",
    "        print(spectra[0][\"wavelength\"][i])\n",
    "        print(spectra[0][\"wavelength\"][i + 1])"
   ]
  },
  {
   "cell_type": "code",
   "execution_count": null,
   "id": "a467be35-e7e7-484f-899c-b28a64b48bcf",
   "metadata": {},
   "outputs": [],
   "source": []
  }
 ],
 "metadata": {
  "kernelspec": {
   "display_name": "DESI_LAE",
   "language": "python",
   "name": "desi_lae"
  },
  "language_info": {
   "codemirror_mode": {
    "name": "ipython",
    "version": 3
   },
   "file_extension": ".py",
   "mimetype": "text/x-python",
   "name": "python",
   "nbconvert_exporter": "python",
   "pygments_lexer": "ipython3",
   "version": "3.10.0"
  }
 },
 "nbformat": 4,
 "nbformat_minor": 5
}
