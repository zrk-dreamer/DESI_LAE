{
 "cells": [
  {
   "cell_type": "code",
   "execution_count": 14,
   "id": "e5900ffa-5e3a-438e-b36c-beebf2810aea",
   "metadata": {
    "tags": []
   },
   "outputs": [],
   "source": [
    "from desitarget.targetmask import desi_mask\n",
    "from desitarget.sv1 import sv1_targetmask\n",
    "from desitarget.sv2 import sv2_targetmask\n",
    "from desitarget.sv3 import sv3_targetmask\n",
    "sv1_desi_mask = sv1_targetmask.desi_mask\n",
    "sv2_desi_mask = sv2_targetmask.desi_mask\n",
    "sv3_desi_mask = sv3_targetmask.desi_mask\n",
    "from desispec.coaddition import coadd_cameras\n",
    "import desispec.io\n",
    "\n",
    "from astropy.table import Table, join\n",
    "from astropy.io import fits\n",
    "from astropy.convolution import convolve, Gaussian1DKernel\n",
    "\n",
    "import numpy as np\n",
    "\n",
    "import matplotlib.pyplot as plt\n",
    "from matplotlib.pyplot import rc\n",
    "\n",
    "import pickle\n",
    "from IPython.display import clear_output"
   ]
  },
  {
   "cell_type": "code",
   "execution_count": 2,
   "id": "45a0e977-0516-40af-9f7f-a8aebd55a09b",
   "metadata": {
    "tags": []
   },
   "outputs": [],
   "source": [
    "with fits.open(\"/global/cfs/cdirs/desi/public/edr/vac/edr/fastspecfit/fuji/v3.2/catalogs/fastspec-fuji.fits\", memmap = True) as hdul:\n",
    "    is_elg = (hdul[2].data[\"SV1_DESI_TARGET\"] & sv1_desi_mask['ELG'] != 0)|(hdul[2].data[\"SV2_DESI_TARGET\"] & sv2_desi_mask['ELG'] != 0)|(hdul[2].data[\"SV3_DESI_TARGET\"] & sv3_desi_mask['ELG'] != 0)\n",
    "    ELG1 = Table(hdul[1].data[is_elg])\n",
    "    ELG2 = Table(hdul[2].data[is_elg])\n",
    "    ELG = join(ELG1, ELG2, keys = 'TARGETID', join_type='left')"
   ]
  },
  {
   "cell_type": "code",
   "execution_count": 91,
   "id": "c91bc8d9-5a13-4862-8601-9c20762a817a",
   "metadata": {
    "tags": []
   },
   "outputs": [],
   "source": [
    "def my_selection(ELG = ELG, redshift_range_OII = [0.1, 0.4], OII_SNR = 4, OIII_SNR = [5, 7], HALPHA_SNR = [5, 7], redshift_range_Lya = [1.96, 7.08], Lya_SNR = 5, CIV_SNR = [2, 5]):\n",
    "    def BOX_SNR(dataset, feature):\n",
    "        signal = dataset[str(feature) + \"_BOXFLUX\"]\n",
    "        noise = dataset[str(feature) + \"_BOXFLUX_IVAR\"]\n",
    "        preSNR = signal / noise ** (-1 / 2)\n",
    "        return np.nan_to_num(preSNR)\n",
    "\n",
    "    mask_redshift_low = ELG[\"Z_1\"] < redshift_range_Lya[1]\n",
    "    mask_redshift_high = ELG[\"Z_1\"] > redshift_range_Lya[0]\n",
    "    selection1 = ELG[mask_redshift_low & mask_redshift_high]\n",
    "    selection1 = selection1[BOX_SNR(selection1, \"CIV_1549\") > CIV_SNR[0]]\n",
    "    selection1 = selection1[BOX_SNR(selection1, \"CIV_1549\") < CIV_SNR[1]]\n",
    "    selection1 = selection1[BOX_SNR(selection1, \"LYALPHA\") > Lya_SNR]\n",
    "    selection1 = selection1[selection1[\"LYALPHA_NPIX\"] < 60]\n",
    "\n",
    "    mask_redshift_low = ELG[\"Z_1\"] < redshift_range_OII[1]\n",
    "    mask_redshift_high = ELG[\"Z_1\"] > redshift_range_OII[0]\n",
    "    selection2 = ELG[mask_redshift_low & mask_redshift_high] \n",
    "    selection2 = selection2[BOX_SNR(selection2, \"OII_3726\") > OII_SNR]\n",
    "    selection2 = selection2[BOX_SNR(selection2, \"OIII_5007\") > OIII_SNR[0]]\n",
    "    selection2 = selection2[BOX_SNR(selection2, \"OIII_5007\") < OIII_SNR[1]]\n",
    "    selection2 = selection2[BOX_SNR(selection2, \"HALPHA\") > HALPHA_SNR[0]]\n",
    "    selection2 = selection2[BOX_SNR(selection2, \"HALPHA\") < HALPHA_SNR[1]]\n",
    "    \n",
    "    return selection1, selection2"
   ]
  },
  {
   "cell_type": "code",
   "execution_count": 92,
   "id": "a66b8cd6-f280-40fd-9649-2aa08811cdf2",
   "metadata": {
    "tags": []
   },
   "outputs": [
    {
     "name": "stderr",
     "output_type": "stream",
     "text": [
      "/tmp/ipykernel_968809/400385732.py:5: RuntimeWarning: divide by zero encountered in power\n",
      "  preSNR = signal / noise ** (-1 / 2)\n"
     ]
    }
   ],
   "source": [
    "selection1, selection2 = my_selection()"
   ]
  },
  {
   "cell_type": "code",
   "execution_count": 93,
   "id": "d89edb43-8a4a-4fc2-b32a-91ab92cf2569",
   "metadata": {
    "tags": []
   },
   "outputs": [
    {
     "data": {
      "text/plain": [
       "132"
      ]
     },
     "execution_count": 93,
     "metadata": {},
     "output_type": "execute_result"
    }
   ],
   "source": [
    "len(selection2)"
   ]
  },
  {
   "cell_type": "code",
   "execution_count": 96,
   "id": "147569cc-9b82-4d9b-a97e-049c0305fe54",
   "metadata": {
    "tags": []
   },
   "outputs": [
    {
     "data": {
      "image/png": "[encoded data removed]",
      "text/plain": [
       "<Figure size 640x480 with 1 Axes>"
      ]
     },
     "metadata": {},
     "output_type": "display_data"
    }
   ],
   "source": [
    "plt.hist(selection2[\"DELTACHI2\"], bins = 20)\n",
    "plt.yscale(\"log\")\n",
    "# plt.xlim(0, 2500)"
   ]
  },
  {
   "cell_type": "code",
   "execution_count": null,
   "id": "0a1de384-5289-47dd-9763-57583b038739",
   "metadata": {},
   "outputs": [],
   "source": []
  }
 ],
 "metadata": {
  "kernelspec": {
   "display_name": "DESI_LAE",
   "language": "python",
   "name": "desi_lae"
  },
  "language_info": {
   "codemirror_mode": {
    "name": "ipython",
    "version": 3
   },
   "file_extension": ".py",
   "mimetype": "text/x-python",
   "name": "python",
   "nbconvert_exporter": "python",
   "pygments_lexer": "ipython3",
   "version": "3.10.0"
  }
 },
 "nbformat": 4,
 "nbformat_minor": 5
}
